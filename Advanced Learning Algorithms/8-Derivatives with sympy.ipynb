{
 "cells": [
  {
   "cell_type": "markdown",
   "metadata": {
    "tags": []
   },
   "source": [
    "# Optional Lab - Derivatives\n",
    "This lab will give you a more intuitive understanding of derivatives. It will show you a simple way of calculating derivatives arithmetically. It will also introduce you to a handy Python library that allows you to calculate derivatives symbolically."
   ],
   "id": "7574fec39cc0b4db"
  },
  {
   "cell_type": "code",
   "metadata": {
    "ExecuteTime": {
     "end_time": "2025-07-14T19:41:34.003451Z",
     "start_time": "2025-07-14T19:41:33.719300Z"
    }
   },
   "source": [
    "from sympy import symbols, diff"
   ],
   "id": "3968783917c1ee4b",
   "outputs": [],
   "execution_count": 2
  },
  {
   "cell_type": "markdown",
   "metadata": {},
   "source": [
    "## Informal definition of derivatives"
   ],
   "id": "db8ed083bbdbd57b"
  },
  {
   "cell_type": "markdown",
   "metadata": {},
   "source": [
    "The formal definition of derivatives can be a bit daunting with limits and values 'going to zero'. The idea is really much simpler. \n",
    "\n",
    "The derivative of a function describes how the output of a function changes when there is a small change in an input variable.\n",
    "\n",
    "Let's use the cost function $J(w)$ as an example. The cost $J$ is the output and $w$ is the input variable.  \n",
    "Let's give a 'small change' a name *epsilon* or $\\epsilon$. We use these Greek letters because it is traditional in mathematics to use *epsilon*($\\epsilon$) or *delta* ($\\Delta$) to represent a small value. You can think of it as representing 0.001 or some other small value.  \n",
    "\n",
    "$$\n",
    "\\begin{equation}\n",
    "\\text{if } w \\uparrow \\epsilon \\text{ causes }J(w) \\uparrow \\text{by }k \\times \\epsilon \\text{ then}  \\\\\n",
    "\\frac{\\partial J(w)}{\\partial w} = k \\tag{1}\n",
    "\\end{equation}\n",
    "$$\n",
    "\n",
    "This just says if you change the input to the function $J(w)$ by a little bit and the output changes by $k$ times that little bit, then the derivative of $J(w)$ is equal to $k$.\n",
    "\n",
    "Let's try this out.  Let's look at the derivative of the function $J(w) = w^2$ at the point $w=3$ and $\\epsilon = 0.001$"
   ],
   "id": "59baf6e56696a9de"
  },
  {
   "cell_type": "code",
   "metadata": {
    "ExecuteTime": {
     "end_time": "2025-07-14T19:43:02.107953Z",
     "start_time": "2025-07-14T19:43:02.103882Z"
    }
   },
   "source": [
    "J = (3)**2\n",
    "J_epsilon = (3 + 0.001)**2\n",
    "k = (J_epsilon - J)/0.001    # difference divided by epsilon\n",
    "print(f\"J = {J}, J_epsilon = {J_epsilon}, dJ_dw ~= k = {k:0.6f} \")"
   ],
   "id": "ae62943cd19d2ec1",
   "outputs": [
    {
     "name": "stdout",
     "output_type": "stream",
     "text": [
      "J = 9, J_epsilon = 9.006001, dJ_dw ~= k = 6.001000 \n"
     ]
    }
   ],
   "execution_count": 3
  },
  {
   "cell_type": "markdown",
   "metadata": {},
   "source": [
    "We have increased the input value a little bit (0.001), causing the output to change from 9 to 9.006001, an increase of 6 times the input increase. Referencing (1) above, this says that $k=6$, so $\\frac{\\partial J(w)}{\\partial w} \\approx 6$. If you are familiar with calculus, you know, written symbolically,  $\\frac{\\partial J(w)}{\\partial w} = 2 w$. With $w=3$ this is 6. Our calculation above is not exactly 6 because to be exactly correct $\\epsilon$ would need to be [infinitesimally small](https://www.dictionary.com/browse/infinitesimally) or really, really small. That is why we use the symbols $\\approx$ or ~= rather than =. Let's see what happens if we make $\\epsilon$ smaller."
   ],
   "id": "4edb83e29919bf6"
  },
  {
   "cell_type": "code",
   "metadata": {
    "ExecuteTime": {
     "end_time": "2025-07-14T19:43:36.347683Z",
     "start_time": "2025-07-14T19:43:36.338760Z"
    }
   },
   "source": [
    "J = (3)**2\n",
    "J_epsilon = (3 + 0.000000001)**2\n",
    "k = (J_epsilon - J)/0.000000001\n",
    "print(f\"J = {J}, J_epsilon = {J_epsilon}, dJ_dw ~= k = {k} \")"
   ],
   "id": "4778e5f9bb8393",
   "outputs": [
    {
     "name": "stdout",
     "output_type": "stream",
     "text": [
      "J = 9, J_epsilon = 9.000000006, dJ_dw ~= k = 6.000000496442226 \n"
     ]
    }
   ],
   "execution_count": 4
  },
  {
   "cell_type": "markdown",
   "metadata": {},
   "source": [
    "The value gets close to exactly 6 as we reduce the size of $\\epsilon$. Feel free to try reducing the value further."
   ],
   "id": "9a02ace7d462dc7"
  },
  {
   "cell_type": "markdown",
   "metadata": {},
   "source": [
    "## Finding symbolic derivatives\n",
    "In backprop it is useful to know the derivative of simple functions at any input value. Put another way, we would like to know the 'symbolic' derivative rather than the 'arithmetic' derivative. An example of a symbolic derivative is,  $\\frac{\\partial J(w)}{\\partial w} = 2 w$, the derivative of $J(w) = w^2$ above.  With the symbolic derivative you can find the value of the derivative at any input value $w$.  \n",
    "\n",
    "If you have taken a calculus course, you are familiar with the many [differentiation rules](https://en.wikipedia.org/wiki/Differentiation_rules#Power_laws,_polynomials,_quotients,_and_reciprocals) that mathematicians have developed to solve for a derivative given an expression. Well, it turns out this process has been automated with symbolic differentiation programs. An example of this in python is the [SymPy](https://www.sympy.org/en/index.html) library. Let's take a look at how to use this."
   ],
   "id": "893ee1f897009ad1"
  },
  {
   "cell_type": "markdown",
   "metadata": {},
   "source": [
    "### $J = w^2$\n",
    "Define the python variables and their symbolic names."
   ],
   "id": "b6357c38e54295c6"
  },
  {
   "cell_type": "code",
   "metadata": {
    "ExecuteTime": {
     "end_time": "2025-07-14T19:44:25.346202Z",
     "start_time": "2025-07-14T19:44:25.343783Z"
    }
   },
   "source": [
    "J, w = symbols('J, w')"
   ],
   "id": "ee4cd1cbaecb1844",
   "outputs": [],
   "execution_count": 5
  },
  {
   "cell_type": "markdown",
   "metadata": {},
   "source": [
    "Define and print the expression. Note SymPy produces a [latex](https://en.wikibooks.org/wiki/LaTeX/Mathematics) string which generates a nicely readable equation."
   ],
   "id": "abf6aabc9d83fa5d"
  },
  {
   "cell_type": "code",
   "metadata": {
    "ExecuteTime": {
     "end_time": "2025-07-14T19:44:26.470410Z",
     "start_time": "2025-07-14T19:44:26.463981Z"
    }
   },
   "source": [
    "J=w**2\n",
    "J"
   ],
   "id": "37b9d85ca4dcea9f",
   "outputs": [
    {
     "data": {
      "text/plain": [
       "w**2"
      ],
      "text/latex": "$\\displaystyle w^{2}$"
     },
     "execution_count": 6,
     "metadata": {},
     "output_type": "execute_result"
    }
   ],
   "execution_count": 6
  },
  {
   "cell_type": "markdown",
   "metadata": {},
   "source": [
    "Use SymPy's `diff` to differentiate the expression for $J$ with respect to $w$. Note the result matches our earlier example."
   ],
   "id": "685e69369226638f"
  },
  {
   "cell_type": "code",
   "metadata": {
    "ExecuteTime": {
     "end_time": "2025-07-14T19:44:27.700238Z",
     "start_time": "2025-07-14T19:44:27.663248Z"
    }
   },
   "source": [
    "dJ_dw = diff(J,w)\n",
    "dJ_dw"
   ],
   "id": "6215f9ffc1ee7f6a",
   "outputs": [
    {
     "data": {
      "text/plain": [
       "2*w"
      ],
      "text/latex": "$\\displaystyle 2 w$"
     },
     "execution_count": 7,
     "metadata": {},
     "output_type": "execute_result"
    }
   ],
   "execution_count": 7
  },
  {
   "cell_type": "markdown",
   "metadata": {},
   "source": [
    "Evaluate the derivative at a few points by 'substituting' numeric values for the symbolic values. In the first example, $w$ is replaced by $2$."
   ],
   "id": "62d96bff147d3294"
  },
  {
   "cell_type": "code",
   "metadata": {
    "ExecuteTime": {
     "end_time": "2025-07-14T19:44:28.750974Z",
     "start_time": "2025-07-14T19:44:28.745705Z"
    }
   },
   "source": [
    "dJ_dw.subs([(w,2)])    # derivative at the point w = 2"
   ],
   "id": "23e4186427957c",
   "outputs": [
    {
     "data": {
      "text/plain": [
       "4"
      ],
      "text/latex": "$\\displaystyle 4$"
     },
     "execution_count": 8,
     "metadata": {},
     "output_type": "execute_result"
    }
   ],
   "execution_count": 8
  },
  {
   "cell_type": "code",
   "metadata": {
    "scrolled": true,
    "ExecuteTime": {
     "end_time": "2025-07-14T19:44:29.086431Z",
     "start_time": "2025-07-14T19:44:29.083448Z"
    }
   },
   "source": [
    "dJ_dw.subs([(w,3)])    # derivative at the point w = 3"
   ],
   "id": "85dfdfb247f86a7d",
   "outputs": [
    {
     "data": {
      "text/plain": [
       "6"
      ],
      "text/latex": "$\\displaystyle 6$"
     },
     "execution_count": 9,
     "metadata": {},
     "output_type": "execute_result"
    }
   ],
   "execution_count": 9
  },
  {
   "cell_type": "code",
   "metadata": {
    "ExecuteTime": {
     "end_time": "2025-07-14T19:44:29.507860Z",
     "start_time": "2025-07-14T19:44:29.504092Z"
    }
   },
   "source": [
    "dJ_dw.subs([(w,-3)])    # derivative at the point w = -3"
   ],
   "id": "2301e11d6a4d5d8c",
   "outputs": [
    {
     "data": {
      "text/plain": [
       "-6"
      ],
      "text/latex": "$\\displaystyle -6$"
     },
     "execution_count": 10,
     "metadata": {},
     "output_type": "execute_result"
    }
   ],
   "execution_count": 10
  },
  {
   "cell_type": "markdown",
   "metadata": {},
   "source": [
    "## $J = 2w$"
   ],
   "id": "1fa07d25e90341a8"
  },
  {
   "cell_type": "code",
   "metadata": {
    "tags": [],
    "ExecuteTime": {
     "end_time": "2025-07-14T19:44:31.390048Z",
     "start_time": "2025-07-14T19:44:31.386486Z"
    }
   },
   "source": [
    "w, J = symbols('w, J')"
   ],
   "id": "4c220f1cf6c62d9b",
   "outputs": [],
   "execution_count": 11
  },
  {
   "cell_type": "code",
   "metadata": {
    "ExecuteTime": {
     "end_time": "2025-07-14T19:44:31.826590Z",
     "start_time": "2025-07-14T19:44:31.821761Z"
    }
   },
   "source": [
    "J = 2 * w\n",
    "J"
   ],
   "id": "84fd09f02ec7bba4",
   "outputs": [
    {
     "data": {
      "text/plain": [
       "2*w"
      ],
      "text/latex": "$\\displaystyle 2 w$"
     },
     "execution_count": 12,
     "metadata": {},
     "output_type": "execute_result"
    }
   ],
   "execution_count": 12
  },
  {
   "cell_type": "code",
   "metadata": {
    "tags": [],
    "ExecuteTime": {
     "end_time": "2025-07-14T19:44:32.069353Z",
     "start_time": "2025-07-14T19:44:32.066521Z"
    }
   },
   "source": [
    "dJ_dw = diff(J,w)\n",
    "dJ_dw"
   ],
   "id": "19a860a6b7c2ece7",
   "outputs": [
    {
     "data": {
      "text/plain": [
       "2"
      ],
      "text/latex": "$\\displaystyle 2$"
     },
     "execution_count": 13,
     "metadata": {},
     "output_type": "execute_result"
    }
   ],
   "execution_count": 13
  },
  {
   "cell_type": "code",
   "metadata": {
    "ExecuteTime": {
     "end_time": "2025-07-14T19:44:32.279939Z",
     "start_time": "2025-07-14T19:44:32.277109Z"
    }
   },
   "source": [
    "dJ_dw.subs([(w,-3)])    # derivative at the point w = -3"
   ],
   "id": "1c56b345bcdd7c2e",
   "outputs": [
    {
     "data": {
      "text/plain": [
       "2"
      ],
      "text/latex": "$\\displaystyle 2$"
     },
     "execution_count": 14,
     "metadata": {},
     "output_type": "execute_result"
    }
   ],
   "execution_count": 14
  },
  {
   "cell_type": "markdown",
   "metadata": {},
   "source": [
    "Compare this with the arithmetic calculation"
   ],
   "id": "25ac08d89c03d4e5"
  },
  {
   "cell_type": "code",
   "metadata": {
    "ExecuteTime": {
     "end_time": "2025-07-14T19:44:32.675478Z",
     "start_time": "2025-07-14T19:44:32.673254Z"
    }
   },
   "source": [
    "J = 2*3\n",
    "J_epsilon = 2*(3 + 0.001)\n",
    "k = (J_epsilon - J)/0.001\n",
    "print(f\"J = {J}, J_epsilon = {J_epsilon}, dJ_dw ~= k = {k} \")"
   ],
   "id": "76657fff5497691b",
   "outputs": [
    {
     "name": "stdout",
     "output_type": "stream",
     "text": [
      "J = 6, J_epsilon = 6.002, dJ_dw ~= k = 1.9999999999997797 \n"
     ]
    }
   ],
   "execution_count": 15
  },
  {
   "cell_type": "markdown",
   "metadata": {},
   "source": [
    "For the function $J=2w$, it is easy to see that any change in $w$ will result in 2 times that amount of change in the output $J$, regardless of the starting value of $w$. Our NumPy and arithmetic results confirm this. "
   ],
   "id": "7b71d45e75444e96"
  },
  {
   "cell_type": "markdown",
   "metadata": {},
   "source": [
    "## $J = w^3$"
   ],
   "id": "c638337ca0ea2f28"
  },
  {
   "cell_type": "code",
   "metadata": {
    "ExecuteTime": {
     "end_time": "2025-07-14T19:44:33.304546Z",
     "start_time": "2025-07-14T19:44:33.299844Z"
    }
   },
   "source": [
    "J, w = symbols('J, w')"
   ],
   "id": "9674b46cd5552155",
   "outputs": [],
   "execution_count": 16
  },
  {
   "cell_type": "code",
   "metadata": {
    "ExecuteTime": {
     "end_time": "2025-07-14T19:44:34.789628Z",
     "start_time": "2025-07-14T19:44:34.783372Z"
    }
   },
   "source": [
    "J=w**3\n",
    "J"
   ],
   "id": "1deec55cefec6735",
   "outputs": [
    {
     "data": {
      "text/plain": [
       "w**3"
      ],
      "text/latex": "$\\displaystyle w^{3}$"
     },
     "execution_count": 17,
     "metadata": {},
     "output_type": "execute_result"
    }
   ],
   "execution_count": 17
  },
  {
   "cell_type": "code",
   "metadata": {
    "ExecuteTime": {
     "end_time": "2025-07-14T19:44:35.845643Z",
     "start_time": "2025-07-14T19:44:35.839504Z"
    }
   },
   "source": [
    "dJ_dw = diff(J,w)\n",
    "dJ_dw"
   ],
   "id": "40dac40aaa10ee5d",
   "outputs": [
    {
     "data": {
      "text/plain": [
       "3*w**2"
      ],
      "text/latex": "$\\displaystyle 3 w^{2}$"
     },
     "execution_count": 18,
     "metadata": {},
     "output_type": "execute_result"
    }
   ],
   "execution_count": 18
  },
  {
   "cell_type": "code",
   "metadata": {
    "ExecuteTime": {
     "end_time": "2025-07-14T19:44:36.112990Z",
     "start_time": "2025-07-14T19:44:36.108685Z"
    }
   },
   "source": [
    "dJ_dw.subs([(w,2)])   # derivative at the point w=2"
   ],
   "id": "1c959e22a4592822",
   "outputs": [
    {
     "data": {
      "text/plain": [
       "12"
      ],
      "text/latex": "$\\displaystyle 12$"
     },
     "execution_count": 19,
     "metadata": {},
     "output_type": "execute_result"
    }
   ],
   "execution_count": 19
  },
  {
   "cell_type": "markdown",
   "metadata": {},
   "source": [
    "Compare this with the arithmetic calculation"
   ],
   "id": "8de91b2c5f7a7e1b"
  },
  {
   "cell_type": "code",
   "metadata": {
    "ExecuteTime": {
     "end_time": "2025-07-14T19:44:36.643133Z",
     "start_time": "2025-07-14T19:44:36.640815Z"
    }
   },
   "source": [
    "J = (2)**3\n",
    "J_epsilon = (2+0.001)**3\n",
    "k = (J_epsilon - J)/0.001\n",
    "print(f\"J = {J}, J_epsilon = {J_epsilon}, dJ_dw ~= k = {k} \")"
   ],
   "id": "156df746ac6bc63",
   "outputs": [
    {
     "name": "stdout",
     "output_type": "stream",
     "text": [
      "J = 8, J_epsilon = 8.012006000999998, dJ_dw ~= k = 12.006000999997823 \n"
     ]
    }
   ],
   "execution_count": 20
  },
  {
   "cell_type": "markdown",
   "metadata": {},
   "source": [
    "## $J = \\frac{1}{w}$"
   ],
   "id": "2e214565916f1950"
  },
  {
   "cell_type": "code",
   "metadata": {
    "ExecuteTime": {
     "end_time": "2025-07-14T19:44:38.389558Z",
     "start_time": "2025-07-14T19:44:38.386175Z"
    }
   },
   "source": [
    "J, w = symbols('J, w')"
   ],
   "id": "4ecde339e19a79c",
   "outputs": [],
   "execution_count": 21
  },
  {
   "cell_type": "code",
   "metadata": {
    "ExecuteTime": {
     "end_time": "2025-07-14T19:44:38.703376Z",
     "start_time": "2025-07-14T19:44:38.699821Z"
    }
   },
   "source": [
    "J= 1/w\n",
    "J"
   ],
   "id": "dc00cd1865b951a",
   "outputs": [
    {
     "data": {
      "text/plain": [
       "1/w"
      ],
      "text/latex": "$\\displaystyle \\frac{1}{w}$"
     },
     "execution_count": 22,
     "metadata": {},
     "output_type": "execute_result"
    }
   ],
   "execution_count": 22
  },
  {
   "cell_type": "code",
   "metadata": {
    "ExecuteTime": {
     "end_time": "2025-07-14T19:44:38.943271Z",
     "start_time": "2025-07-14T19:44:38.937944Z"
    }
   },
   "source": [
    "dJ_dw = diff(J,w)\n",
    "dJ_dw"
   ],
   "id": "645685c747b83a98",
   "outputs": [
    {
     "data": {
      "text/plain": [
       "-1/w**2"
      ],
      "text/latex": "$\\displaystyle - \\frac{1}{w^{2}}$"
     },
     "execution_count": 23,
     "metadata": {},
     "output_type": "execute_result"
    }
   ],
   "execution_count": 23
  },
  {
   "cell_type": "code",
   "metadata": {
    "ExecuteTime": {
     "end_time": "2025-07-14T19:44:39.165468Z",
     "start_time": "2025-07-14T19:44:39.162700Z"
    }
   },
   "source": [
    "dJ_dw.subs([(w,2)])"
   ],
   "id": "e7691b50a3d20e48",
   "outputs": [
    {
     "data": {
      "text/plain": [
       "-1/4"
      ],
      "text/latex": "$\\displaystyle - \\frac{1}{4}$"
     },
     "execution_count": 24,
     "metadata": {},
     "output_type": "execute_result"
    }
   ],
   "execution_count": 24
  },
  {
   "cell_type": "markdown",
   "metadata": {},
   "source": [
    "Compare this with the arithmetic calculation"
   ],
   "id": "1c797b05cc932c8e"
  },
  {
   "cell_type": "code",
   "metadata": {
    "ExecuteTime": {
     "end_time": "2025-07-14T19:44:39.606138Z",
     "start_time": "2025-07-14T19:44:39.603741Z"
    }
   },
   "source": [
    "J = 1/2\n",
    "J_epsilon = 1/(2+0.001)\n",
    "k = (J_epsilon - J)/0.001\n",
    "print(f\"J = {J}, J_epsilon = {J_epsilon}, dJ_dw ~= k = {k} \")"
   ],
   "id": "e5067ba356230e66",
   "outputs": [
    {
     "name": "stdout",
     "output_type": "stream",
     "text": [
      "J = 0.5, J_epsilon = 0.49975012493753124, dJ_dw ~= k = -0.2498750624687629 \n"
     ]
    }
   ],
   "execution_count": 25
  },
  {
   "cell_type": "markdown",
   "metadata": {},
   "source": [
    "## $J = \\frac{1}{w^2}$"
   ],
   "id": "33492db70d14c69a"
  },
  {
   "cell_type": "code",
   "metadata": {
    "ExecuteTime": {
     "end_time": "2025-07-14T19:44:40.142432Z",
     "start_time": "2025-07-14T19:44:40.140094Z"
    }
   },
   "source": [
    "J, w = symbols('J, w')"
   ],
   "id": "2150ee1957a49f19",
   "outputs": [],
   "execution_count": 26
  },
  {
   "cell_type": "markdown",
   "metadata": {},
   "source": [
    "If you have time, try to repeat the above steps on the function  $J = \\frac{1}{w^2}$ and evaluate at w=4"
   ],
   "id": "6c3f4dcaec28a40"
  },
  {
   "cell_type": "code",
   "metadata": {
    "ExecuteTime": {
     "end_time": "2025-07-14T19:45:59.625Z",
     "start_time": "2025-07-14T19:45:59.619532Z"
    }
   },
   "source": [
    "J= 1/w**2\n",
    "J"
   ],
   "id": "fbf7e75147a8c16",
   "outputs": [
    {
     "data": {
      "text/plain": [
       "w**(-2)"
      ],
      "text/latex": "$\\displaystyle \\frac{1}{w^{2}}$"
     },
     "execution_count": 30,
     "metadata": {},
     "output_type": "execute_result"
    }
   ],
   "execution_count": 30
  },
  {
   "cell_type": "code",
   "metadata": {
    "ExecuteTime": {
     "end_time": "2025-07-14T19:45:59.975895Z",
     "start_time": "2025-07-14T19:45:59.970407Z"
    }
   },
   "source": [
    "dJ_dw = diff(J,w)\n",
    "dJ_dw"
   ],
   "id": "e7b379e3215c6b09",
   "outputs": [
    {
     "data": {
      "text/plain": [
       "-2/w**3"
      ],
      "text/latex": "$\\displaystyle - \\frac{2}{w^{3}}$"
     },
     "execution_count": 31,
     "metadata": {},
     "output_type": "execute_result"
    }
   ],
   "execution_count": 31
  },
  {
   "cell_type": "code",
   "metadata": {
    "ExecuteTime": {
     "end_time": "2025-07-14T19:46:02.343270Z",
     "start_time": "2025-07-14T19:46:02.338109Z"
    }
   },
   "source": "dJ_dw.subs([(w,4)])",
   "id": "2c25b8873218f4a8",
   "outputs": [
    {
     "data": {
      "text/plain": [
       "-1/32"
      ],
      "text/latex": "$\\displaystyle - \\frac{1}{32}$"
     },
     "execution_count": 32,
     "metadata": {},
     "output_type": "execute_result"
    }
   ],
   "execution_count": 32
  },
  {
   "cell_type": "markdown",
   "metadata": {},
   "source": [
    "Compare this with the arithmetic calculation"
   ],
   "id": "3c2bd5019b4d9155"
  },
  {
   "cell_type": "code",
   "metadata": {
    "ExecuteTime": {
     "end_time": "2025-07-14T19:46:26.333531Z",
     "start_time": "2025-07-14T19:46:26.331382Z"
    }
   },
   "source": [
    "J = 1/4**2\n",
    "J_epsilon = 1/(4+0.001)**2\n",
    "k = (J_epsilon - J)/0.001\n",
    "print(f\"J = {J}, J_epsilon = {J_epsilon}, dJ_dw ~= k = {k} \")"
   ],
   "id": "27a8a3e5dedd44c5",
   "outputs": [
    {
     "name": "stdout",
     "output_type": "stream",
     "text": [
      "J = 0.0625, J_epsilon = 0.06246876171484496, dJ_dw ~= k = -0.031238285155041345 \n"
     ]
    }
   ],
   "execution_count": 33
  },
  {
   "cell_type": "markdown",
   "metadata": {},
   "source": [
    "<details>\n",
    "  <summary><font size=\"3\" color=\"darkgreen\"><b>Click for hints</b></font></summary>\n",
    "    \n",
    "```python \n",
    "J= 1/w**2\n",
    "dJ_dw = diff(J,w)\n",
    "dJ_dw.subs([(w,4)])\n",
    "```\n",
    "  \n",
    "\n",
    "</details>\n",
    "\n",
    "    \n"
   ],
   "id": "2c1c1a3078c83686"
  },
  {
   "cell_type": "markdown",
   "metadata": {},
   "source": [
    "## Congratulations!\n",
    "If you have run through the above examples, you understand a derivative describes the change in the output of a function that is a result of a small change in an input to that function. You also can use *SymPy* in python to find the symbolic derivative of functions."
   ],
   "id": "72b517021c42f80f"
  }
 ],
 "metadata": {
  "kernelspec": {
   "display_name": "Python 3",
   "language": "python",
   "name": "python3"
  },
  "language_info": {
   "codemirror_mode": {
    "name": "ipython",
    "version": 3
   },
   "file_extension": ".py",
   "mimetype": "text/x-python",
   "name": "python",
   "nbconvert_exporter": "python",
   "pygments_lexer": "ipython3",
   "version": "3.9.10"
  }
 },
 "nbformat": 4,
 "nbformat_minor": 5
}
